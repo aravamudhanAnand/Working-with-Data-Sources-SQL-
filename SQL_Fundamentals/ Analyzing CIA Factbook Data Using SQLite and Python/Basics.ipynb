{
 "cells": [
  {
   "cell_type": "code",
   "execution_count": 34,
   "metadata": {
    "collapsed": false
   },
   "outputs": [],
   "source": [
    "import pandas as pd\n",
    "import sqlite3\n",
    "\n",
    "conn= sqlite3.connect(\"factbook.db\")\n",
    "c=conn.cursor()\n",
    "\n"
   ]
  },
  {
   "cell_type": "markdown",
   "metadata": {},
   "source": [
    "# Summary Statistics"
   ]
  },
  {
   "cell_type": "code",
   "execution_count": 35,
   "metadata": {
    "collapsed": false
   },
   "outputs": [
    {
     "name": "stdout",
     "output_type": "stream",
     "text": [
      "[(0, 7256490011, 0.0, 4.02)]\n"
     ]
    }
   ],
   "source": [
    "q = \"select MIN(population), MAX(population), MIN(population_growth), MAX(population_growth) from facts;\"\n",
    "results=c.execute(q).fetchall()\n",
    "\n",
    "print(results)"
   ]
  },
  {
   "cell_type": "markdown",
   "metadata": {},
   "source": [
    "# Exploring Outliers"
   ]
  },
  {
   "cell_type": "code",
   "execution_count": 36,
   "metadata": {
    "collapsed": false
   },
   "outputs": [
    {
     "name": "stdout",
     "output_type": "stream",
     "text": [
      "[('Antarctica',)]\n"
     ]
    }
   ],
   "source": [
    "# Countries with population 0:\n",
    "q=\"SELECT name FROM facts WHERE population = 0;\"\n",
    "\n",
    "zero_pop = c.execute(q).fetchall()\n",
    "print(zero_pop)"
   ]
  },
  {
   "cell_type": "code",
   "execution_count": 37,
   "metadata": {
    "collapsed": false
   },
   "outputs": [
    {
     "name": "stdout",
     "output_type": "stream",
     "text": [
      "[('World',)]\n"
     ]
    }
   ],
   "source": [
    "# countrie(s) with a population of 7256490011:\n",
    "q= \"SELECT name FROM facts WHERE population = 7256490011;\"\n",
    "max_pop= c.execute(q).fetchall()\n",
    "\n",
    "print(max_pop)"
   ]
  },
  {
   "cell_type": "markdown",
   "metadata": {
    "collapsed": true
   },
   "source": [
    "1. Antartica has zero population.\n",
    "2. The \"facts\" table contains a row for the whole world, which explains the population of over 7.2 billion"
   ]
  },
  {
   "cell_type": "markdown",
   "metadata": {},
   "source": [
    "# Histograms"
   ]
  },
  {
   "cell_type": "code",
   "execution_count": 44,
   "metadata": {
    "collapsed": false
   },
   "outputs": [
    {
     "name": "stdout",
     "output_type": "stream",
     "text": [
      "   population  population_growth  birth_rate  death_rate\n",
      "0  32564342.0               2.32       38.57       13.89\n",
      "1   3029278.0               0.30       12.92        6.58\n",
      "2  39542166.0               1.84       23.67        4.31\n",
      "3     85580.0               0.12        8.13        6.96\n",
      "4  19625353.0               2.78       38.78       11.49\n"
     ]
    }
   ],
   "source": [
    "import pandas as pd\n",
    "import sqlite3\n",
    "%matplotlib inline\n",
    "\n",
    "conn = sqlite3.connect('factbook.db')\n",
    "\n",
    "data = pd.read_sql_query(\"SELECT population, population_growth,birth_rate, death_rate FROM facts where name !='World' and name !='Antartica';\", conn )\n",
    "\n",
    "print(data.head())\n"
   ]
  },
  {
   "cell_type": "markdown",
   "metadata": {
    "collapsed": true
   },
   "source": [
    "# 2 by 2 grid of histograms"
   ]
  },
  {
   "cell_type": "code",
   "execution_count": 47,
   "metadata": {
    "collapsed": false
   },
   "outputs": [
    {
     "data": {
      "image/png": "[encoded data removed]",
      "text/plain": [
       "<matplotlib.figure.Figure at 0x7fd8b3aa0748>"
      ]
     },
     "metadata": {},
     "output_type": "display_data"
    }
   ],
   "source": [
    "import matplotlib.pyplot as plt\n",
    "fig =plt.figure(figsize=(10,10))\n",
    "col_names =[\"population\", \"population_growth\",\"birth_rate\",\"death_rate\"]\n",
    "\n",
    "\n",
    "for i in range(1,5):\n",
    "    ax = fig.add_subplot(2,2,i)\n",
    "    ax= data[col_names[i-1]].plot(kind=\"hist\")\n",
    "    \n",
    "plt.show()\n",
    "\n"
   ]
  },
  {
   "cell_type": "markdown",
   "metadata": {
    "collapsed": true
   },
   "source": [
    "# Population Density\n",
    "Population density is the ratio of population to land area"
   ]
  },
  {
   "cell_type": "code",
   "execution_count": 71,
   "metadata": {
    "collapsed": false
   },
   "outputs": [
    {
     "name": "stdout",
     "output_type": "stream",
     "text": [
      "         name  population_density\n",
      "0       Macau             21168.0\n",
      "1      Monaco             15267.0\n",
      "2   Singapore              8259.0\n",
      "3   Hong Kong              6655.0\n",
      "4  Gaza Strip              5191.0\n"
     ]
    }
   ],
   "source": [
    "q =\" SELECT name, (population/area_land) as population_density FROM facts ORDER BY population_density DESC;\"\n",
    "\n",
    "results= c.execute(q).fetchall()\n",
    "results=pd.DataFrame(results, columns = [\"name\",\"population_density\"])\n",
    "\n",
    "print(results.head())"
   ]
  },
  {
   "cell_type": "code",
   "execution_count": 74,
   "metadata": {
    "collapsed": false
   },
   "outputs": [
    {
     "data": {
      "text/plain": [
       "<matplotlib.axes._subplots.AxesSubplot at 0x7fd8f8f1dfd0>"
      ]
     },
     "execution_count": 74,
     "metadata": {},
     "output_type": "execute_result"
    },
    {
     "data": {
      "image/png": "[encoded data removed]",
      "text/plain": [
       "<matplotlib.figure.Figure at 0x7fd8f8657b38>"
      ]
     },
     "metadata": {},
     "output_type": "display_data"
    }
   ],
   "source": [
    "results[\"population_density\"].hist(bins=20)"
   ]
  },
  {
   "cell_type": "code",
   "execution_count": null,
   "metadata": {
    "collapsed": true
   },
   "outputs": [],
   "source": []
  }
 ],
 "metadata": {
  "kernelspec": {
   "display_name": "Python 3",
   "language": "python",
   "name": "python3"
  },
  "language_info": {
   "codemirror_mode": {
    "name": "ipython",
    "version": 3
   },
   "file_extension": ".py",
   "mimetype": "text/x-python",
   "name": "python",
   "nbconvert_exporter": "python",
   "pygments_lexer": "ipython3",
   "version": "3.4.3"
  }
 },
 "nbformat": 4,
 "nbformat_minor": 2
}
